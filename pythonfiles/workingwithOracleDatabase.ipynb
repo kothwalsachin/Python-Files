{
 "cells": [
  {
   "cell_type": "code",
   "execution_count": null,
   "metadata": {},
   "outputs": [],
   "source": [
    "# to get cx_oracle \n",
    "# pip install cx_oracle in cmd prompt"
   ]
  },
  {
   "cell_type": "code",
   "execution_count": 1,
   "metadata": {},
   "outputs": [],
   "source": [
    "import cx_Oracle"
   ]
  },
  {
   "cell_type": "code",
   "execution_count": 5,
   "metadata": {},
   "outputs": [
    {
     "name": "stdout",
     "output_type": "stream",
     "text": [
      "<class 'cx_Oracle.Cursor'>\n",
      "(10, 'ACCOUNTING', 'NEW YORK')\n",
      "(20, 'RESEARCH', 'DALLAS')\n",
      "(30, 'SALES', 'CHICAGO')\n",
      "(40, 'OPERATIONS', 'BOSTON')\n"
     ]
    }
   ],
   "source": [
    "#example1\n",
    "conn=cx_Oracle.connect('scott/tiger@orcl')\n",
    "cur=conn.cursor()\n",
    "deptdata=cur.execute('select * from dept')\n",
    "print(type(deptdata))\n",
    "for i in deptdata:\n",
    "    print(i)\n",
    "cur.close()\n",
    "conn.close()"
   ]
  },
  {
   "cell_type": "code",
   "execution_count": 6,
   "metadata": {},
   "outputs": [
    {
     "name": "stdout",
     "output_type": "stream",
     "text": [
      "[(10, 'ACCOUNTING', 'NEW YORK'), (20, 'RESEARCH', 'DALLAS'), (30, 'SALES', 'CHICAGO'), (40, 'OPERATIONS', 'BOSTON')]\n"
     ]
    }
   ],
   "source": [
    "conn=cx_Oracle.connect('scott/tiger@orcl')\n",
    "cur=conn.cursor()\n",
    "deptdata=cur.execute('select * from dept')\n",
    "print(deptdata.fetchall())\n",
    "cur.close()\n",
    "conn.close()"
   ]
  },
  {
   "cell_type": "code",
   "execution_count": 7,
   "metadata": {},
   "outputs": [
    {
     "name": "stdout",
     "output_type": "stream",
     "text": [
      "(10, 'ACCOUNTING', 'NEW YORK')\n",
      "(20, 'RESEARCH', 'DALLAS')\n",
      "(30, 'SALES', 'CHICAGO')\n"
     ]
    }
   ],
   "source": [
    "conn=cx_Oracle.connect('scott/tiger@orcl')\n",
    "cur=conn.cursor()\n",
    "deptdata=cur.execute('select * from dept')\n",
    "print(deptdata.fetchone())\n",
    "print(deptdata.fetchone())\n",
    "print(deptdata.fetchone())\n",
    "cur.close()\n",
    "conn.close()"
   ]
  },
  {
   "cell_type": "code",
   "execution_count": 16,
   "metadata": {
    "scrolled": true
   },
   "outputs": [
    {
     "name": "stdout",
     "output_type": "stream",
     "text": [
      "SCOTT\n"
     ]
    }
   ],
   "source": [
    "#Working with Oracle Procedure\n",
    "#step1 : create a procedure in oracle\n",
    "#step2 : testing oracle procedure in oracle\n",
    "#step3 : calling oracle procedure from python"
   ]
  },
  {
   "cell_type": "markdown",
   "metadata": {},
   "source": [
    "#step1 : create a procedure in oracle(you have to do in oracle)\n",
    "create or replace procedure grossal\n",
    "(\n",
    "i_empno number,\n",
    "gr_sal out number\n",
    ")\n",
    "as\n",
    "v_sal number(7,2);\n",
    "v_comm number(7,2);\n",
    "begin\n",
    "select sal,comm into v_sal,v_comm from emp where empno=i_empno;\n",
    "gr_sal:=v_sal+v_comm;\n",
    "end;\n",
    "/"
   ]
  },
  {
   "cell_type": "markdown",
   "metadata": {},
   "source": [
    "#step2 : testing oracle procedure in oracle(you have to do in oracle only)\n",
    "declare\n",
    "gross_salary number(7,2);\n",
    "begin\n",
    "grossal(7499,gross_salary);\n",
    "dbms_output.put_line(gross_salary);\n",
    "end;\n",
    "/"
   ]
  },
  {
   "cell_type": "code",
   "execution_count": null,
   "metadata": {},
   "outputs": [],
   "source": [
    "#Working with Oracle Function\n",
    "#step1 : create a Function in oracle\n",
    "#step2 : testing oracle Function in oracle\n",
    "#step3 : calling oracle Function from python"
   ]
  },
  {
   "cell_type": "markdown",
   "metadata": {},
   "source": [
    "step1 : create a Function in oracle\n",
    "create or replace function empexp\n",
    "(\n",
    "iempno in number\n",
    ") \n",
    "return number\n",
    "as\n",
    "exp number;\n",
    "begin\n",
    "select round((sysdate-hiredate)/365) into exp from emp where empno=iempno;\n",
    "return exp;\n",
    "end;\n",
    "/"
   ]
  },
  {
   "cell_type": "markdown",
   "metadata": {},
   "source": [
    "#step2 : testing oracle Function in oracle\n",
    "select empexp(7499) from dual;"
   ]
  },
  {
   "cell_type": "code",
   "execution_count": 5,
   "metadata": {},
   "outputs": [
    {
     "name": "stdout",
     "output_type": "stream",
     "text": [
      "Enter employee Number::7782\n",
      "38.0\n"
     ]
    }
   ],
   "source": [
    "#step3 : calling oracle Function from python\n",
    "con = cx_Oracle.connect('scott/tiger@orcl')\n",
    "cur = con.cursor()\n",
    "empno=input(\"Enter employee Number::\")\n",
    "exp = cur.callfunc('empexp', cx_Oracle.NUMBER, (empno,))\n",
    "print (exp)\n",
    "cur.close()\n",
    "con.close()"
   ]
  },
  {
   "cell_type": "code",
   "execution_count": 1,
   "metadata": {},
   "outputs": [
    {
     "ename": "NameError",
     "evalue": "name 'cx_Oracle' is not defined",
     "output_type": "error",
     "traceback": [
      "\u001b[1;31m---------------------------------------------------------------------------\u001b[0m",
      "\u001b[1;31mNameError\u001b[0m                                 Traceback (most recent call last)",
      "\u001b[1;32m<ipython-input-1-24bf61994610>\u001b[0m in \u001b[0;36m<module>\u001b[1;34m()\u001b[0m\n\u001b[0;32m      1\u001b[0m \u001b[1;31m#inserting multiple records from list to database table\u001b[0m\u001b[1;33m\u001b[0m\u001b[1;33m\u001b[0m\u001b[0m\n\u001b[1;32m----> 2\u001b[1;33m \u001b[0mcon\u001b[0m \u001b[1;33m=\u001b[0m \u001b[0mcx_Oracle\u001b[0m\u001b[1;33m.\u001b[0m\u001b[0mconnect\u001b[0m\u001b[1;33m(\u001b[0m\u001b[1;34m'scott/tiger@orcl'\u001b[0m\u001b[1;33m)\u001b[0m\u001b[1;33m\u001b[0m\u001b[0m\n\u001b[0m\u001b[0;32m      3\u001b[0m \u001b[0mrows\u001b[0m \u001b[1;33m=\u001b[0m \u001b[1;33m[\u001b[0m \u001b[1;33m(\u001b[0m\u001b[1;36m101\u001b[0m\u001b[1;33m,\u001b[0m\u001b[1;34m'scott1'\u001b[0m\u001b[1;33m,\u001b[0m\u001b[1;34m'python'\u001b[0m\u001b[1;33m,\u001b[0m\u001b[1;36m1500\u001b[0m\u001b[1;33m)\u001b[0m\u001b[1;33m,\u001b[0m\u001b[1;33m(\u001b[0m\u001b[1;36m102\u001b[0m\u001b[1;33m,\u001b[0m\u001b[1;34m'scott2'\u001b[0m\u001b[1;33m,\u001b[0m\u001b[1;34m'python'\u001b[0m\u001b[1;33m,\u001b[0m\u001b[1;36m1500\u001b[0m\u001b[1;33m)\u001b[0m\u001b[1;33m,\u001b[0m\u001b[1;33m(\u001b[0m\u001b[1;36m103\u001b[0m\u001b[1;33m,\u001b[0m\u001b[1;34m'scott3'\u001b[0m\u001b[1;33m,\u001b[0m\u001b[1;34m'python'\u001b[0m\u001b[1;33m,\u001b[0m\u001b[1;36m1500\u001b[0m\u001b[1;33m)\u001b[0m\u001b[1;33m,\u001b[0m\u001b[1;33m(\u001b[0m\u001b[1;36m104\u001b[0m\u001b[1;33m,\u001b[0m\u001b[1;34m'scott4'\u001b[0m\u001b[1;33m,\u001b[0m\u001b[1;34m'python'\u001b[0m\u001b[1;33m,\u001b[0m\u001b[1;36m1500\u001b[0m\u001b[1;33m)\u001b[0m\u001b[1;33m]\u001b[0m\u001b[1;33m\u001b[0m\u001b[0m\n\u001b[0;32m      4\u001b[0m \u001b[0mcur\u001b[0m\u001b[1;33m=\u001b[0m\u001b[0mcon\u001b[0m\u001b[1;33m.\u001b[0m\u001b[0mcursor\u001b[0m\u001b[1;33m(\u001b[0m\u001b[1;33m)\u001b[0m\u001b[1;33m\u001b[0m\u001b[0m\n\u001b[0;32m      5\u001b[0m \u001b[0mcur\u001b[0m\u001b[1;33m.\u001b[0m\u001b[0mbindarraysize\u001b[0m \u001b[1;33m=\u001b[0m \u001b[0mlen\u001b[0m\u001b[1;33m(\u001b[0m\u001b[0mrows\u001b[0m\u001b[1;33m)\u001b[0m\u001b[1;33m\u001b[0m\u001b[0m\n",
      "\u001b[1;31mNameError\u001b[0m: name 'cx_Oracle' is not defined"
     ]
    }
   ],
   "source": [
    "#inserting multiple records from list to database table\n",
    "con = cx_Oracle.connect('scott/tiger@orcl')\n",
    "rows = [ (101,'scott1','python',1500),(102,'scott2','python',1500),(103,'scott3','python',1500),(104,'scott4','python',1500)]\n",
    "cur=con.cursor()\n",
    "cur.bindarraysize = len(rows)\n",
    "cur.setinputsizes(int,4)\n",
    "cur.executemany(\"insert into student(sid,sname,course,fee) values (:1,:2,:3,:4)\",rows)\n",
    "con.commit()\n",
    "cur.close()\n",
    "con.close()"
   ]
  },
  {
   "cell_type": "code",
   "execution_count": null,
   "metadata": {},
   "outputs": [],
   "source": []
  }
 ],
 "metadata": {
  "kernelspec": {
   "display_name": "Python 3",
   "language": "python",
   "name": "python3"
  },
  "language_info": {
   "codemirror_mode": {
    "name": "ipython",
    "version": 3
   },
   "file_extension": ".py",
   "mimetype": "text/x-python",
   "name": "python",
   "nbconvert_exporter": "python",
   "pygments_lexer": "ipython3",
   "version": "3.7.0"
  }
 },
 "nbformat": 4,
 "nbformat_minor": 2
}
