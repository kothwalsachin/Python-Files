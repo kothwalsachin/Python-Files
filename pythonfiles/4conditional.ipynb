{
 "cells": [
  {
   "cell_type": "code",
   "execution_count": null,
   "metadata": {},
   "outputs": [],
   "source": [
    "# conditional statements\n",
    "# if\n",
    "# if ..else\n",
    "# if .. else..if \n",
    "# if ..elif...\n",
    "# nested if"
   ]
  },
  {
   "cell_type": "code",
   "execution_count": 9,
   "metadata": {},
   "outputs": [
    {
     "name": "stdout",
     "output_type": "stream",
     "text": [
      "Enter a value for a::4\n",
      "Enter a value for a::4\n",
      "n2 is greater\n"
     ]
    }
   ],
   "source": [
    "n1=input(\"Enter a value for a::\")\n",
    "n2=input(\"Enter a value for a::\")\n",
    "if n1>n2:\n",
    "    print(\"n1 is greater\")\n",
    "else:\n",
    "    print(\"n2 is greater\")"
   ]
  },
  {
   "cell_type": "code",
   "execution_count": null,
   "metadata": {},
   "outputs": [],
   "source": []
  },
  {
   "cell_type": "code",
   "execution_count": 10,
   "metadata": {},
   "outputs": [
    {
     "name": "stdout",
     "output_type": "stream",
     "text": [
      "Enter a value for a::4\n",
      "Enter a value for a::4\n",
      "Both are equal\n"
     ]
    }
   ],
   "source": [
    "n1=input(\"Enter a value for a::\")\n",
    "n2=input(\"Enter a value for a::\")\n",
    "if n1>n2:\n",
    "    print(\"n1 is greater\")\n",
    "else:\n",
    "    if n2>n1:\n",
    "        print(\"n2 is greater\")\n",
    "    else:\n",
    "        print(\"Both are equal\")"
   ]
  },
  {
   "cell_type": "code",
   "execution_count": 19,
   "metadata": {},
   "outputs": [
    {
     "name": "stdout",
     "output_type": "stream",
     "text": [
      "yes\n"
     ]
    }
   ],
   "source": [
    "if \"bac\">=\"baa\":\n",
    "    print(\"yes\")\n",
    "else:\n",
    "    print(\"no\")"
   ]
  },
  {
   "cell_type": "code",
   "execution_count": 11,
   "metadata": {},
   "outputs": [
    {
     "name": "stdout",
     "output_type": "stream",
     "text": [
      "no hello\n",
      "no hello\n",
      "no hello\n",
      "after conditional sttement\n"
     ]
    }
   ],
   "source": [
    "if 10<5:\n",
    "    print(\"hello\")\n",
    "    print(\"hello2\")\n",
    "    print(\"hello3\")\n",
    "else:\n",
    "    print(\"no hello\")\n",
    "    print(\"no hello\")\n",
    "    print(\"no hello\")\n",
    "print(\"after conditional sttement\")"
   ]
  },
  {
   "cell_type": "code",
   "execution_count": 24,
   "metadata": {},
   "outputs": [
    {
     "name": "stdout",
     "output_type": "stream",
     "text": [
      "10 is greater than 5\n",
      "Hello \n",
      "1243243\n"
     ]
    }
   ],
   "source": [
    "if 10 > 5:\n",
    "    print(\"10 is greater than 5\")\n",
    "    print(\"Hello \")\n",
    "print(\"1243243\")"
   ]
  },
  {
   "cell_type": "code",
   "execution_count": 27,
   "metadata": {},
   "outputs": [],
   "source": [
    "if 10>5:\n",
    "    pass"
   ]
  },
  {
   "cell_type": "code",
   "execution_count": 28,
   "metadata": {},
   "outputs": [
    {
     "name": "stdout",
     "output_type": "stream",
     "text": [
      "10 is less than 20\n",
      "Helllo\n",
      "helllo\n",
      "1234\n"
     ]
    }
   ],
   "source": [
    "if 10 > 20:\n",
    "    print(\"10 is greater than 5\")\n",
    "else:\n",
    "    print(\"10 is less than 20\")\n",
    "    print(\"Helllo\")\n",
    "print(\"helllo\")\n",
    "print(\"1234\")"
   ]
  },
  {
   "cell_type": "code",
   "execution_count": 29,
   "metadata": {},
   "outputs": [
    {
     "data": {
      "text/plain": [
       "bool"
      ]
     },
     "execution_count": 29,
     "metadata": {},
     "output_type": "execute_result"
    }
   ],
   "source": [
    "type(False)"
   ]
  },
  {
   "cell_type": "code",
   "execution_count": 30,
   "metadata": {},
   "outputs": [],
   "source": [
    "if True:\n",
    "    pass\n",
    "else:\n",
    "    print (\"False False\")"
   ]
  },
  {
   "cell_type": "code",
   "execution_count": 31,
   "metadata": {},
   "outputs": [
    {
     "name": "stdout",
     "output_type": "stream",
     "text": [
      "enter a value for a::10\n",
      "enter a value for a::20\n",
      "20 Entered value is 10\n"
     ]
    }
   ],
   "source": [
    "# %s  %d  %r  %f\n",
    "a=input(\"enter a value for a::\")\n",
    "b=input(\"enter a value for a::\")\n",
    "print(\"{1} Entered value is {0}\".format(a,b))"
   ]
  },
  {
   "cell_type": "code",
   "execution_count": 32,
   "metadata": {},
   "outputs": [
    {
     "name": "stdout",
     "output_type": "stream",
     "text": [
      "True\n"
     ]
    }
   ],
   "source": [
    "if True:\n",
    "    print (\"True\")\n",
    "else:\n",
    "    print (\"False\")"
   ]
  },
  {
   "cell_type": "code",
   "execution_count": 35,
   "metadata": {},
   "outputs": [
    {
     "name": "stdout",
     "output_type": "stream",
     "text": [
      "Enter a value10.45\n",
      "10.45\n"
     ]
    },
    {
     "data": {
      "text/plain": [
       "str"
      ]
     },
     "execution_count": 35,
     "metadata": {},
     "output_type": "execute_result"
    }
   ],
   "source": [
    "x=input(\"Enter a value\")\n",
    "print(x)\n",
    "type(x)"
   ]
  },
  {
   "cell_type": "code",
   "execution_count": 36,
   "metadata": {},
   "outputs": [
    {
     "name": "stdout",
     "output_type": "stream",
     "text": [
      "enter a value for val1:100\n",
      "enter a value for val2:200\n",
      "100200\n"
     ]
    }
   ],
   "source": [
    "val1 = input(\"enter a value for val1:\")\n",
    "val2 = input(\"enter a value for val2:\")\n",
    "val3 = val1 + val2\n",
    "print (val3)"
   ]
  },
  {
   "cell_type": "code",
   "execution_count": 37,
   "metadata": {},
   "outputs": [
    {
     "name": "stdout",
     "output_type": "stream",
     "text": [
      "enter a value:100\n",
      "100\n",
      "<class 'str'>\n",
      "<class 'int'>\n"
     ]
    },
    {
     "data": {
      "text/plain": [
       "str"
      ]
     },
     "execution_count": 37,
     "metadata": {},
     "output_type": "execute_result"
    }
   ],
   "source": [
    "val =input(\"enter a value:\")\n",
    "print(val)  # 100\n",
    "print(type(val))  # str\n",
    "print(type(int(val)))  # int\n",
    "type(val)  #  str"
   ]
  },
  {
   "cell_type": "code",
   "execution_count": 39,
   "metadata": {},
   "outputs": [
    {
     "name": "stdout",
     "output_type": "stream",
     "text": [
      "100\n"
     ]
    }
   ],
   "source": [
    "print(100)"
   ]
  },
  {
   "cell_type": "code",
   "execution_count": 38,
   "metadata": {},
   "outputs": [
    {
     "name": "stdout",
     "output_type": "stream",
     "text": [
      "Enter a value for a::10\n",
      "Enter a value for b::20\n",
      "30\n"
     ]
    }
   ],
   "source": [
    "a = input(\"Enter a value for a::\")\n",
    "b = input(\"Enter a value for b::\")\n",
    "print(int(a)+int(b))"
   ]
  },
  {
   "cell_type": "code",
   "execution_count": 40,
   "metadata": {},
   "outputs": [
    {
     "name": "stdout",
     "output_type": "stream",
     "text": [
      "Enter a value for a::100\n",
      "Enter a value for b::200\n",
      "300\n"
     ]
    }
   ],
   "source": [
    "a = int(input(\"Enter a value for a::\"))\n",
    "b = int(input(\"Enter a value for b::\"))\n",
    "print(a+b)"
   ]
  },
  {
   "cell_type": "code",
   "execution_count": null,
   "metadata": {},
   "outputs": [],
   "source": []
  },
  {
   "cell_type": "code",
   "execution_count": 41,
   "metadata": {},
   "outputs": [
    {
     "name": "stdout",
     "output_type": "stream",
     "text": [
      "Enter a value for a::10\n",
      "Enter a value for b::20\n",
      "b is greater than a\n"
     ]
    }
   ],
   "source": [
    "a = int(input(\"Enter a value for a::\"))\n",
    "b = int(input(\"Enter a value for b::\"))\n",
    "if a > b:\n",
    "    print(\"a is greater than b\")\n",
    "else:\n",
    "    print (\"b is greater than a\")"
   ]
  },
  {
   "cell_type": "code",
   "execution_count": 42,
   "metadata": {},
   "outputs": [
    {
     "name": "stdout",
     "output_type": "stream",
     "text": [
      "Enter a value for a::200\n",
      "Enter a value for b::500\n",
      "500 is greater than 200\n"
     ]
    }
   ],
   "source": [
    "a = int(input(\"Enter a value for a::\"))\n",
    "b = int(input(\"Enter a value for b::\"))\n",
    "if a > b:\n",
    "    print (\"%d is greater than %d\" %(a,b))\n",
    "else:\n",
    "    print (\"{1} is greater than {0}\".format(a,b))"
   ]
  },
  {
   "cell_type": "code",
   "execution_count": 27,
   "metadata": {},
   "outputs": [
    {
     "name": "stdout",
     "output_type": "stream",
     "text": [
      "Enter a value for a::5\n",
      "Enter a value for b::5\n",
      "5 and 5 are equal values\n"
     ]
    }
   ],
   "source": [
    "a = int(input(\"Enter a value for a::\"))\n",
    "b = int(input(\"Enter a value for b::\"))\n",
    "if a > b:\n",
    "    print (\"%d is greater than %d\" %(a,b))\n",
    "else:\n",
    "    if b > a:\n",
    "        print (\"{1} is greater than {0}\".format(a,b))\n",
    "    else:\n",
    "        print (\"{1} and {0} are equal values\".format(b,a))"
   ]
  },
  {
   "cell_type": "code",
   "execution_count": 14,
   "metadata": {},
   "outputs": [
    {
     "name": "stdout",
     "output_type": "stream",
     "text": [
      "Enter a value for a::10\n",
      "Enter a value for b::10\n",
      "10 and 10 are equal values\n"
     ]
    }
   ],
   "source": [
    "a = input(\"Enter a value for a::\")\n",
    "b = input(\"Enter a value for b::\")\n",
    "if a > b:\n",
    "    print (\"%d is greater than %d\" %(a,b))\n",
    "elif b > a:\n",
    "    print (\"{1} is greater than {0}\".format(a,b))\n",
    "else:\n",
    "    print (\"{1} and {0} are equal values\".format(b,a))"
   ]
  },
  {
   "cell_type": "code",
   "execution_count": 2,
   "metadata": {},
   "outputs": [
    {
     "name": "stdout",
     "output_type": "stream",
     "text": [
      "Enter your subject name:h\n",
      "Enter your subject name:g\n",
      "Enter your subject name:m\n",
      "Science student\n"
     ]
    }
   ],
   "source": [
    "s1 = input(\"Enter your subject name:\")\n",
    "s2 = input(\"Enter your subject name:\")\n",
    "s3 = input(\"Enter your subject name:\")\n",
    "if s1=='m' or s1=='p' or s1=='c':\n",
    "    print (\"Science student\")\n",
    "elif s2=='m' or s2=='p' or s2=='c':\n",
    "    print (\"Science student\")\n",
    "elif s3=='m' or s3=='p' or s3=='c':\n",
    "    print (\"Science student\")\n",
    "else:\n",
    "    print (\"Arts student\")"
   ]
  },
  {
   "cell_type": "code",
   "execution_count": 4,
   "metadata": {},
   "outputs": [
    {
     "name": "stdout",
     "output_type": "stream",
     "text": [
      "Enter a marks for Maths::a\n",
      "Enter a value for Science::7788\n",
      "Enter a value for physics::99\n",
      "Enter a value for english::88\n"
     ]
    },
    {
     "ename": "ValueError",
     "evalue": "invalid literal for int() with base 10: 'a'",
     "output_type": "error",
     "traceback": [
      "\u001b[1;31m---------------------------------------------------------------------------\u001b[0m",
      "\u001b[1;31mValueError\u001b[0m                                Traceback (most recent call last)",
      "\u001b[1;32m<ipython-input-4-75238c527fee>\u001b[0m in \u001b[0;36m<module>\u001b[1;34m()\u001b[0m\n\u001b[0;32m      3\u001b[0m \u001b[0mphy\u001b[0m \u001b[1;33m=\u001b[0m \u001b[0minput\u001b[0m\u001b[1;33m(\u001b[0m\u001b[1;34m\"Enter a value for physics::\"\u001b[0m\u001b[1;33m)\u001b[0m\u001b[1;33m\u001b[0m\u001b[0m\n\u001b[0;32m      4\u001b[0m \u001b[0meng\u001b[0m \u001b[1;33m=\u001b[0m \u001b[0minput\u001b[0m\u001b[1;33m(\u001b[0m\u001b[1;34m\"Enter a value for english::\"\u001b[0m\u001b[1;33m)\u001b[0m\u001b[1;33m\u001b[0m\u001b[0m\n\u001b[1;32m----> 5\u001b[1;33m \u001b[1;32mif\u001b[0m \u001b[0mint\u001b[0m\u001b[1;33m(\u001b[0m\u001b[0mmath\u001b[0m\u001b[1;33m)\u001b[0m \u001b[1;33m>=\u001b[0m \u001b[1;36m40\u001b[0m \u001b[1;32mand\u001b[0m \u001b[0mint\u001b[0m\u001b[1;33m(\u001b[0m\u001b[0msci\u001b[0m\u001b[1;33m)\u001b[0m \u001b[1;33m>=\u001b[0m \u001b[1;36m40\u001b[0m \u001b[1;32mand\u001b[0m \u001b[0mint\u001b[0m\u001b[1;33m(\u001b[0m\u001b[0mphy\u001b[0m\u001b[1;33m)\u001b[0m \u001b[1;33m>=\u001b[0m \u001b[1;36m40\u001b[0m \u001b[1;32mand\u001b[0m \u001b[0mint\u001b[0m\u001b[1;33m(\u001b[0m\u001b[0meng\u001b[0m\u001b[1;33m)\u001b[0m \u001b[1;33m>=\u001b[0m \u001b[1;36m40\u001b[0m\u001b[1;33m:\u001b[0m\u001b[1;33m\u001b[0m\u001b[0m\n\u001b[0m\u001b[0;32m      6\u001b[0m     \u001b[0mprint\u001b[0m \u001b[1;33m(\u001b[0m\u001b[1;34m\"Pass\"\u001b[0m\u001b[1;33m)\u001b[0m\u001b[1;33m\u001b[0m\u001b[0m\n\u001b[0;32m      7\u001b[0m \u001b[1;32melse\u001b[0m\u001b[1;33m:\u001b[0m\u001b[1;33m\u001b[0m\u001b[0m\n",
      "\u001b[1;31mValueError\u001b[0m: invalid literal for int() with base 10: 'a'"
     ]
    }
   ],
   "source": [
    "math = input(\"Enter a marks for Maths::\")\n",
    "sci = input(\"Enter a value for Science::\")\n",
    "phy = input(\"Enter a value for physics::\")\n",
    "eng = input(\"Enter a value for english::\")\n",
    "if int(math) >= 40 and int(sci) >= 40 and int(phy) >= 40 and int(eng) >= 40:\n",
    "    print (\"Pass\")\n",
    "else:\n",
    "    print (\"Fail\")"
   ]
  },
  {
   "cell_type": "code",
   "execution_count": 31,
   "metadata": {},
   "outputs": [
    {
     "name": "stdout",
     "output_type": "stream",
     "text": [
      "Enter a marks for Maths::90\n",
      "Enter a value for Science::80\n",
      "Enter a value for physics::90\n",
      "Enter a value for english::80\n",
      "Pass\n"
     ]
    }
   ],
   "source": [
    "math = input(\"Enter a marks for Maths::\")\n",
    "sci = input(\"Enter a value for Science::\")\n",
    "phy = input(\"Enter a value for physics::\")\n",
    "eng = input(\"Enter a value for english::\")\n",
    "if int(math) >= 40 and int(sci) >= 40 and int(phy) >= 40 and int(eng) >= 40:print (\"Pass\")"
   ]
  },
  {
   "cell_type": "code",
   "execution_count": 34,
   "metadata": {},
   "outputs": [
    {
     "name": "stdout",
     "output_type": "stream",
     "text": [
      "Enter a value for Maths::67\n",
      "Enter a value for Science::76\n",
      "Enter a value for physics::23\n",
      "Enter a value for english::24\n",
      "Failed in PHYSICS\n"
     ]
    }
   ],
   "source": [
    "math = int(input(\"Enter a value for Maths::\"))\n",
    "sci = int(input(\"Enter a value for Science::\"))\n",
    "phy = int(input(\"Enter a value for physics::\"))\n",
    "eng = int(input(\"Enter a value for english::\"))\n",
    "if math >= 40:\n",
    "    if sci >= 40:\n",
    "        if phy >= 40:\n",
    "            if eng >= 40:\n",
    "                print (\"PASS\")\n",
    "            else:\n",
    "                print (\"Failed in ENGLISH\")\n",
    "        else:\n",
    "            print (\"Failed in PHYSICS\")\n",
    "    else:\n",
    "        print (\"Failed in SCIENCE\")\n",
    "else:\n",
    "    print (\"Failed in MATHS\")"
   ]
  },
  {
   "cell_type": "code",
   "execution_count": 35,
   "metadata": {},
   "outputs": [
    {
     "name": "stdout",
     "output_type": "stream",
     "text": [
      "Enter a value for Maths::45\n",
      "Enter a value for Science::55\n",
      "Enter a value for physics::65\n",
      "Enter a value for english::24\n",
      "Status:FAIL\n",
      "***********************************\n",
      "Student Marks\n",
      "***********************************\n",
      "Maths       : 45\n",
      "Science     : 55\n",
      "Physics     : 65\n",
      "English     : 24\n",
      "***********************************\n",
      "Total marks : 189\n",
      "***********************************\n"
     ]
    }
   ],
   "source": [
    "math = int(input(\"Enter a value for Maths::\"))\n",
    "sci = int(input(\"Enter a value for Science::\"))\n",
    "phy = int(input(\"Enter a value for physics::\"))\n",
    "eng = int(input(\"Enter a value for english::\"))\n",
    "totmarks = math + sci + phy + eng\n",
    "if math >= 40:\n",
    "    if sci >= 40:\n",
    "        if phy >= 40:\n",
    "            if eng >= 40:\n",
    "                print (\"Status:PASS\")\n",
    "                print (\"***********************************\")\n",
    "                print (\"Student Marks\")\n",
    "                print (\"***********************************\")\n",
    "                print (\"Maths       :\",math)\n",
    "                print (\"Science     :\",sci)\n",
    "                print (\"Physics     :\",phy)\n",
    "                print (\"English     :\",eng)\n",
    "                print (\"***********************************\")\n",
    "                print (\"Total marks :\",totmarks)\n",
    "                print (\"***********************************\")\n",
    "            else:\n",
    "                print (\"Status:FAIL\")\n",
    "                print (\"***********************************\")\n",
    "                print (\"Student Marks\")\n",
    "                print (\"***********************************\")\n",
    "                print (\"Maths       :\",math)\n",
    "                print (\"Science     :\",sci)\n",
    "                print (\"Physics     :\",phy)\n",
    "                print (\"English     :\",eng)\n",
    "                print (\"***********************************\")\n",
    "                print (\"Total marks :\",totmarks)\n",
    "                print (\"***********************************\")\n",
    "        else:\n",
    "            print (\"Status:FAIL\")\n",
    "            print (\"***********************************\")\n",
    "            print (\"Student Marks\")\n",
    "            print (\"***********************************\")\n",
    "            print (\"Maths       :\",math)\n",
    "            print (\"Science     :\",sci)\n",
    "            print (\"Physics     :\",phy)\n",
    "            print (\"English     :\",eng)\n",
    "            print (\"***********************************\")\n",
    "            print (\"Total marks :\",totmarks)\n",
    "            print (\"***********************************\")\n",
    "    else:\n",
    "        print (\"Status:FAIL\")\n",
    "        print (\"***********************************\")\n",
    "        print (\"Student Marks\")\n",
    "        print (\"***********************************\")\n",
    "        print (\"Maths       :\",math)\n",
    "        print (\"Science     :\",sci)\n",
    "        print (\"Physics     :\",phy)\n",
    "        print (\"English     :\",eng)\n",
    "        print (\"***********************************\")\n",
    "        print (\"Total marks :\",totmarks)\n",
    "        print (\"***********************************\")\n",
    "else:\n",
    "    print (\"Status:FAIL\")\n",
    "    print (\"***********************************\")\n",
    "    print (\"Student Marks\")\n",
    "    print (\"***********************************\")\n",
    "    print (\"Maths       :\",math)\n",
    "    print (\"Science     :\",sci)\n",
    "    print (\"Physics     :\",phy)\n",
    "    print (\"English     :\",eng)\n",
    "    print (\"***********************************\")\n",
    "    print (\"Total marks :\",totmarks)\n",
    "    print (\"***********************************\")"
   ]
  },
  {
   "cell_type": "code",
   "execution_count": 13,
   "metadata": {},
   "outputs": [
    {
     "name": "stdout",
     "output_type": "stream",
     "text": [
      "not integer\n"
     ]
    }
   ],
   "source": [
    "x=\"100\"\n",
    "y=\"welcome\"\n",
    "if x==100:\n",
    "    print(\"string\")\n",
    "else:\n",
    "    print(\"not integer\")"
   ]
  },
  {
   "cell_type": "code",
   "execution_count": 21,
   "metadata": {},
   "outputs": [
    {
     "name": "stdout",
     "output_type": "stream",
     "text": [
      "Enter aadhaar Number::8545875\n"
     ]
    }
   ],
   "source": [
    "x=int(input(\"Enter aadhaar Number::\"))"
   ]
  },
  {
   "cell_type": "code",
   "execution_count": 17,
   "metadata": {},
   "outputs": [
    {
     "name": "stdout",
     "output_type": "stream",
     "text": [
      "100\n"
     ]
    }
   ],
   "source": [
    "print(x)"
   ]
  },
  {
   "cell_type": "code",
   "execution_count": 19,
   "metadata": {},
   "outputs": [
    {
     "data": {
      "text/plain": [
       "int"
      ]
     },
     "execution_count": 19,
     "metadata": {},
     "output_type": "execute_result"
    }
   ],
   "source": [
    "type(x)"
   ]
  },
  {
   "cell_type": "code",
   "execution_count": null,
   "metadata": {},
   "outputs": [],
   "source": []
  }
 ],
 "metadata": {
  "kernelspec": {
   "display_name": "Python 3",
   "language": "python",
   "name": "python3"
  },
  "language_info": {
   "codemirror_mode": {
    "name": "ipython",
    "version": 3
   },
   "file_extension": ".py",
   "mimetype": "text/x-python",
   "name": "python",
   "nbconvert_exporter": "python",
   "pygments_lexer": "ipython3",
   "version": "3.6.5"
  }
 },
 "nbformat": 4,
 "nbformat_minor": 1
}
