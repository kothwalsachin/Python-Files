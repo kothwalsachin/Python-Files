{
 "cells": [
  {
   "cell_type": "code",
   "execution_count": null,
   "metadata": {},
   "outputs": [],
   "source": [
    "#Data Abstraction:\n",
    "                                Vehicle--->class\n",
    "                                    |\n",
    "                            ---------------------\n",
    "                            |         |          |\n",
    "                           Car       Bus        Truck...\n",
    "                            |\n",
    "                   -----------------\n",
    "                   |      |         |\n",
    "                   HB     S       SVV\n",
    "                   |                |\n",
    "                  i20             Hexa  \n",
    "                \n",
    "#If class is a Abstract class we cannot create obj for that cls. Abstract classes will have abstract \n",
    "#methods.\n",
    "#If a class is abstract and one more class is inherited from abstract class that class can create obj.\n",
    "#We can create Generic features in parent class using Abstraction."
   ]
  },
  {
   "cell_type": "code",
   "execution_count": 1,
   "metadata": {},
   "outputs": [],
   "source": [
    "from abc import ABC, abstractmethod"
   ]
  },
  {
   "cell_type": "code",
   "execution_count": 3,
   "metadata": {},
   "outputs": [],
   "source": [
    "class c1(ABC):\n",
    "    @abstractmethod\n",
    "    def m1(self):\n",
    "        return \"m1 of c1\"\n",
    "    @abstractmethod\n",
    "    def m2(self):\n",
    "        return \"m2 of c1\"\n",
    "    def m3(self):\n",
    "        return \"m3 of c1\""
   ]
  },
  {
   "cell_type": "code",
   "execution_count": 4,
   "metadata": {},
   "outputs": [
    {
     "ename": "TypeError",
     "evalue": "Can't instantiate abstract class c1 with abstract methods m1, m2",
     "output_type": "error",
     "traceback": [
      "\u001b[1;31m---------------------------------------------------------------------------\u001b[0m",
      "\u001b[1;31mTypeError\u001b[0m                                 Traceback (most recent call last)",
      "\u001b[1;32m<ipython-input-4-6598f403c990>\u001b[0m in \u001b[0;36m<module>\u001b[1;34m\u001b[0m\n\u001b[1;32m----> 1\u001b[1;33m \u001b[0mc1obj\u001b[0m\u001b[1;33m=\u001b[0m\u001b[0mc1\u001b[0m\u001b[1;33m(\u001b[0m\u001b[1;33m)\u001b[0m\u001b[1;33m\u001b[0m\u001b[1;33m\u001b[0m\u001b[0m\n\u001b[0m",
      "\u001b[1;31mTypeError\u001b[0m: Can't instantiate abstract class c1 with abstract methods m1, m2"
     ]
    }
   ],
   "source": [
    "c1obj=c1() #we can't create object for Abstract class."
   ]
  },
  {
   "cell_type": "code",
   "execution_count": 36,
   "metadata": {},
   "outputs": [],
   "source": [
    "class c2(c1):\n",
    "    def m1(self):          #we have to implement abstract methods in child class compulsory. or else\n",
    "        return \"m1 of c2\"  # class will not be created and object is not created.\n",
    "    def m2(self):\n",
    "        print(super().m2())\n",
    "        return \"m2 of c2\"    "
   ]
  },
  {
   "cell_type": "code",
   "execution_count": 37,
   "metadata": {},
   "outputs": [],
   "source": [
    "c2obj=c2()"
   ]
  },
  {
   "cell_type": "code",
   "execution_count": 38,
   "metadata": {},
   "outputs": [
    {
     "data": {
      "text/plain": [
       "'m1 of c2'"
      ]
     },
     "execution_count": 38,
     "metadata": {},
     "output_type": "execute_result"
    }
   ],
   "source": [
    "c2obj.m1()"
   ]
  },
  {
   "cell_type": "code",
   "execution_count": 39,
   "metadata": {},
   "outputs": [
    {
     "name": "stdout",
     "output_type": "stream",
     "text": [
      "m2 of c1\n"
     ]
    },
    {
     "data": {
      "text/plain": [
       "'m2 of c2'"
      ]
     },
     "execution_count": 39,
     "metadata": {},
     "output_type": "execute_result"
    }
   ],
   "source": [
    "c2obj.m2()"
   ]
  },
  {
   "cell_type": "code",
   "execution_count": 11,
   "metadata": {},
   "outputs": [
    {
     "data": {
      "text/plain": [
       "'m3 of c1'"
      ]
     },
     "execution_count": 11,
     "metadata": {},
     "output_type": "execute_result"
    }
   ],
   "source": [
    "c2obj.m3()"
   ]
  },
  {
   "cell_type": "code",
   "execution_count": null,
   "metadata": {},
   "outputs": [],
   "source": []
  }
 ],
 "metadata": {
  "kernelspec": {
   "display_name": "Python 3",
   "language": "python",
   "name": "python3"
  },
  "language_info": {
   "codemirror_mode": {
    "name": "ipython",
    "version": 3
   },
   "file_extension": ".py",
   "mimetype": "text/x-python",
   "name": "python",
   "nbconvert_exporter": "python",
   "pygments_lexer": "ipython3",
   "version": "3.7.1"
  }
 },
 "nbformat": 4,
 "nbformat_minor": 2
}
