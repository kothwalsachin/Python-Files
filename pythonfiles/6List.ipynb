{
 "cells": [
  {
   "cell_type": "code",
   "execution_count": null,
   "metadata": {
    "collapsed": true
   },
   "outputs": [],
   "source": [
    "# List is a sequence representation of a data\n",
    "# A indexed representation of data\n",
    "# List are single dimensional arrays like\n",
    "# But Arrays are Multidimensional \n",
    "# http://scipy.org"
   ]
  },
  {
   "cell_type": "code",
   "execution_count": 1,
   "metadata": {},
   "outputs": [],
   "source": [
    "L1=[1,2,3,4,5]\n",
    "L2=['raju','ramu','somu']\n",
    "L3=[10.45,10.63,10.56]\n",
    "L4=['raju',100,10.45]"
   ]
  },
  {
   "cell_type": "code",
   "execution_count": 2,
   "metadata": {},
   "outputs": [
    {
     "name": "stdout",
     "output_type": "stream",
     "text": [
      "[1, 2, 3, 4, 5]\n",
      "['raju', 'ramu', 'somu']\n",
      "[10.45, 10.63, 10.56]\n",
      "['raju', 100, 10.45]\n"
     ]
    }
   ],
   "source": [
    "print(L1)\n",
    "print(L2)\n",
    "print(L3)\n",
    "print(L4)"
   ]
  },
  {
   "cell_type": "code",
   "execution_count": null,
   "metadata": {},
   "outputs": [],
   "source": [
    "#Creating Empty list"
   ]
  },
  {
   "cell_type": "code",
   "execution_count": 3,
   "metadata": {},
   "outputs": [
    {
     "name": "stdout",
     "output_type": "stream",
     "text": [
      "[]\n"
     ]
    }
   ],
   "source": [
    "# Method1\n",
    "L5=[]\n",
    "print(L5)"
   ]
  },
  {
   "cell_type": "code",
   "execution_count": 4,
   "metadata": {},
   "outputs": [
    {
     "name": "stdout",
     "output_type": "stream",
     "text": [
      "[]\n",
      "<class 'list'>\n"
     ]
    }
   ],
   "source": [
    "# Method2\n",
    "L6=list()\n",
    "print(L6)\n",
    "print(type(L6))"
   ]
  },
  {
   "cell_type": "code",
   "execution_count": 5,
   "metadata": {},
   "outputs": [
    {
     "name": "stdout",
     "output_type": "stream",
     "text": [
      "['Python', 'Java', '.Net']\n"
     ]
    }
   ],
   "source": [
    "L7=list([\"Python\",\"Java\",\".Net\"])\n",
    "print(L7)"
   ]
  },
  {
   "cell_type": "code",
   "execution_count": 7,
   "metadata": {},
   "outputs": [
    {
     "name": "stdout",
     "output_type": "stream",
     "text": [
      "['P', 'y', 't', 'h', 'o', 'n']\n"
     ]
    }
   ],
   "source": [
    "L8=list(\"Python\")\n",
    "print(L8)"
   ]
  },
  {
   "cell_type": "code",
   "execution_count": 8,
   "metadata": {},
   "outputs": [
    {
     "ename": "TypeError",
     "evalue": "'int' object is not iterable",
     "output_type": "error",
     "traceback": [
      "\u001b[1;31m---------------------------------------------------------------------------\u001b[0m",
      "\u001b[1;31mTypeError\u001b[0m                                 Traceback (most recent call last)",
      "\u001b[1;32m<ipython-input-8-53d23fb5d028>\u001b[0m in \u001b[0;36m<module>\u001b[1;34m()\u001b[0m\n\u001b[1;32m----> 1\u001b[1;33m \u001b[0mL9\u001b[0m\u001b[1;33m=\u001b[0m\u001b[0mlist\u001b[0m\u001b[1;33m(\u001b[0m\u001b[1;36m100\u001b[0m\u001b[1;33m)\u001b[0m\u001b[1;33m\u001b[0m\u001b[0m\n\u001b[0m\u001b[0;32m      2\u001b[0m \u001b[0mprint\u001b[0m\u001b[1;33m(\u001b[0m\u001b[0mL9\u001b[0m\u001b[1;33m)\u001b[0m\u001b[1;33m\u001b[0m\u001b[0m\n",
      "\u001b[1;31mTypeError\u001b[0m: 'int' object is not iterable"
     ]
    }
   ],
   "source": [
    "L9=list(100)\n",
    "print(L9)"
   ]
  },
  {
   "cell_type": "code",
   "execution_count": 9,
   "metadata": {},
   "outputs": [
    {
     "name": "stdout",
     "output_type": "stream",
     "text": [
      "[100]\n"
     ]
    }
   ],
   "source": [
    "L10=list([100])\n",
    "print(L10)"
   ]
  },
  {
   "cell_type": "code",
   "execution_count": 11,
   "metadata": {},
   "outputs": [
    {
     "name": "stdout",
     "output_type": "stream",
     "text": [
      "[100, 200, 300]\n"
     ]
    }
   ],
   "source": [
    "L11=list([100,200,300])\n",
    "print(L11)"
   ]
  },
  {
   "cell_type": "code",
   "execution_count": 12,
   "metadata": {},
   "outputs": [
    {
     "name": "stdout",
     "output_type": "stream",
     "text": [
      "100\n"
     ]
    }
   ],
   "source": [
    "print(L11[0])"
   ]
  },
  {
   "cell_type": "code",
   "execution_count": 13,
   "metadata": {},
   "outputs": [
    {
     "name": "stdout",
     "output_type": "stream",
     "text": [
      "['raju', 100, 10.45]\n",
      "<class 'list'>\n",
      "<class 'str'>\n",
      "<class 'int'>\n",
      "<class 'float'>\n"
     ]
    }
   ],
   "source": [
    "#Datatypes of list and their elements\n",
    "L4=['raju',100,10.45]\n",
    "print(L4)\n",
    "print(type(L4))\n",
    "print(type(L4[0]))\n",
    "print(type(L4[1]))\n",
    "print(type(L4[2]))"
   ]
  },
  {
   "cell_type": "code",
   "execution_count": 14,
   "metadata": {},
   "outputs": [],
   "source": [
    "# indexes of list \n",
    "#       0  1  2  3   4 # positive indexes\n",
    "#L1 = [ 1, 2, 3, 4 , 5]\n",
    "#      -5 -4 -3 -2  -1  # Negative indexes"
   ]
  },
  {
   "cell_type": "code",
   "execution_count": 15,
   "metadata": {},
   "outputs": [
    {
     "name": "stdout",
     "output_type": "stream",
     "text": [
      "['raju', 100, 10.45]\n",
      "raju\n",
      "10.45\n",
      "10.45\n"
     ]
    },
    {
     "ename": "IndexError",
     "evalue": "list index out of range",
     "output_type": "error",
     "traceback": [
      "\u001b[1;31m---------------------------------------------------------------------------\u001b[0m",
      "\u001b[1;31mIndexError\u001b[0m                                Traceback (most recent call last)",
      "\u001b[1;32m<ipython-input-15-7ed18f07b674>\u001b[0m in \u001b[0;36m<module>\u001b[1;34m()\u001b[0m\n\u001b[0;32m      4\u001b[0m \u001b[0mprint\u001b[0m\u001b[1;33m(\u001b[0m\u001b[0mL4\u001b[0m\u001b[1;33m[\u001b[0m\u001b[1;36m2\u001b[0m\u001b[1;33m]\u001b[0m\u001b[1;33m)\u001b[0m\u001b[1;33m\u001b[0m\u001b[0m\n\u001b[0;32m      5\u001b[0m \u001b[0mprint\u001b[0m\u001b[1;33m(\u001b[0m\u001b[0mL4\u001b[0m\u001b[1;33m[\u001b[0m\u001b[1;33m-\u001b[0m\u001b[1;36m1\u001b[0m\u001b[1;33m]\u001b[0m\u001b[1;33m)\u001b[0m\u001b[1;33m\u001b[0m\u001b[0m\n\u001b[1;32m----> 6\u001b[1;33m \u001b[0mprint\u001b[0m\u001b[1;33m(\u001b[0m\u001b[0mL4\u001b[0m\u001b[1;33m[\u001b[0m\u001b[1;33m-\u001b[0m\u001b[1;36m4\u001b[0m\u001b[1;33m]\u001b[0m\u001b[1;33m)\u001b[0m\u001b[1;33m\u001b[0m\u001b[0m\n\u001b[0m",
      "\u001b[1;31mIndexError\u001b[0m: list index out of range"
     ]
    }
   ],
   "source": [
    "#Indexes of list\n",
    "print(L4)\n",
    "print(L4[0])\n",
    "print(L4[2])\n",
    "print(L4[-1])\n",
    "print(L4[-4])"
   ]
  },
  {
   "cell_type": "code",
   "execution_count": 17,
   "metadata": {},
   "outputs": [
    {
     "name": "stdout",
     "output_type": "stream",
     "text": [
      "[1, 2, 3, 4, 5, 6, 7, 8, 9, 10, 11, 12, 13]\n"
     ]
    }
   ],
   "source": [
    "# slicing of list with indexes\n",
    "L1=[1,2,3,4,5,6,7,8,9,10,11,12,13]\n",
    "print(L1)"
   ]
  },
  {
   "cell_type": "code",
   "execution_count": 18,
   "metadata": {},
   "outputs": [
    {
     "name": "stdout",
     "output_type": "stream",
     "text": [
      "[2, 3, 4]\n",
      "[1, 2, 3, 4, 5, 6, 7]\n",
      "[7, 8, 9, 10, 11, 12, 13]\n",
      "[1, 2, 3, 4, 5, 6, 7, 8, 9, 10, 11, 12, 13]\n"
     ]
    }
   ],
   "source": [
    "print(L1[1:4])\n",
    "print(L1[:7])\n",
    "print(L1[6:])\n",
    "print(L1[:])"
   ]
  },
  {
   "cell_type": "code",
   "execution_count": 19,
   "metadata": {},
   "outputs": [],
   "source": [
    "# creation of List\n",
    "days = ['sun','mon','tue','wed','thu','fri']"
   ]
  },
  {
   "cell_type": "code",
   "execution_count": 20,
   "metadata": {},
   "outputs": [
    {
     "name": "stdout",
     "output_type": "stream",
     "text": [
      "['sun', 'mon', 'tue', 'wed', 'thu', 'fri']\n"
     ]
    },
    {
     "data": {
      "text/plain": [
       "list"
      ]
     },
     "execution_count": 20,
     "metadata": {},
     "output_type": "execute_result"
    }
   ],
   "source": [
    "print (days)\n",
    "type(days)"
   ]
  },
  {
   "cell_type": "code",
   "execution_count": 21,
   "metadata": {},
   "outputs": [
    {
     "name": "stdout",
     "output_type": "stream",
     "text": [
      "['sun', 'mon', 'tue', 'wed', 'thu', 'fri']\n",
      "True\n",
      "False\n"
     ]
    }
   ],
   "source": [
    "# in operator on list\n",
    "print (days)\n",
    "print ('sun' in days)\n",
    "print ('sat' in days)"
   ]
  },
  {
   "cell_type": "code",
   "execution_count": 22,
   "metadata": {},
   "outputs": [
    {
     "name": "stdout",
     "output_type": "stream",
     "text": [
      "Enter a day name::sat\n",
      "Element is Not Existed\n"
     ]
    }
   ],
   "source": [
    "day=input(\"Enter a day name::\")\n",
    "if day in days:\n",
    "    print(\"Element is existed\")\n",
    "else:\n",
    "    print(\"Element is Not Existed\")"
   ]
  },
  {
   "cell_type": "code",
   "execution_count": 23,
   "metadata": {},
   "outputs": [
    {
     "name": "stdout",
     "output_type": "stream",
     "text": [
      "['abhi', 'hari', 'srikanth', 'sunil', 'lokesh']\n"
     ]
    }
   ],
   "source": [
    "students = ['abhi','hari','srikanth','sunil','lokesh']\n",
    "print (students)"
   ]
  },
  {
   "cell_type": "code",
   "execution_count": 24,
   "metadata": {},
   "outputs": [
    {
     "name": "stdout",
     "output_type": "stream",
     "text": [
      "['sunil']\n"
     ]
    }
   ],
   "source": [
    "std_absent = ['sunil']\n",
    "print (std_absent)"
   ]
  },
  {
   "cell_type": "code",
   "execution_count": 25,
   "metadata": {},
   "outputs": [
    {
     "name": "stdout",
     "output_type": "stream",
     "text": [
      "1\n",
      "2\n",
      "3\n",
      "4\n",
      "5\n"
     ]
    }
   ],
   "source": [
    "for i in [1,2,3,4,5]:\n",
    "    print(i)"
   ]
  },
  {
   "cell_type": "code",
   "execution_count": 26,
   "metadata": {},
   "outputs": [],
   "source": [
    "students = ['abhi','hari','srikanth','sunil','lokesh']"
   ]
  },
  {
   "cell_type": "code",
   "execution_count": 27,
   "metadata": {},
   "outputs": [
    {
     "name": "stdout",
     "output_type": "stream",
     "text": [
      "abhi,hari,srikanth,sunil,lokesh,"
     ]
    }
   ],
   "source": [
    "for i in students:\n",
    "    print(i,end=',')"
   ]
  },
  {
   "cell_type": "code",
   "execution_count": 28,
   "metadata": {},
   "outputs": [],
   "source": [
    "L1=[1,2,3,4,5]"
   ]
  },
  {
   "cell_type": "code",
   "execution_count": 29,
   "metadata": {},
   "outputs": [
    {
     "name": "stdout",
     "output_type": "stream",
     "text": [
      "Not Existed\n"
     ]
    }
   ],
   "source": [
    "i=9\n",
    "if i in L1:\n",
    "    print(\"Existed\")\n",
    "else:\n",
    "    print(\"Not Existed\")"
   ]
  },
  {
   "cell_type": "code",
   "execution_count": 33,
   "metadata": {},
   "outputs": [],
   "source": [
    "students = ['abhi','hari','srikanth','sunil','lokesh']\n",
    "std_absent = ['sunil']"
   ]
  },
  {
   "cell_type": "code",
   "execution_count": 34,
   "metadata": {},
   "outputs": [
    {
     "name": "stdout",
     "output_type": "stream",
     "text": [
      "Attended students information:abhi\n",
      "Attended students information:hari\n",
      "Attended students information:srikanth\n",
      "Attended students information:lokesh\n"
     ]
    }
   ],
   "source": [
    "# to see the behaviour of \"CONTINUE\"\n",
    "#students = ['abhi','hari','srikanth','sunil','lokesh']\n",
    "for student in students:\n",
    "    if student in std_absent:\n",
    "        continue # print all except sunil\n",
    "        #break # print up to sunil\n",
    "        #pass  # print everything\n",
    "    print (\"Attended students information:{}\".format(student))"
   ]
  },
  {
   "cell_type": "code",
   "execution_count": 36,
   "metadata": {},
   "outputs": [
    {
     "name": "stdout",
     "output_type": "stream",
     "text": [
      "Attended students information:abhi\n",
      "Attended students information:hari\n",
      "Attended students information:srikanth\n",
      "Out side of the For Loop\n"
     ]
    }
   ],
   "source": [
    "# to see the behaviour of \"BREAK\"\n",
    "for student in students:\n",
    "    if student in std_absent:\n",
    "        #continue # print all except sunil\n",
    "        break # print up to sunil\n",
    "        #pass  # print everything\n",
    "    print (\"Attended students information:{}\".format(student))\n",
    "print(\"Out side of the For Loop\")"
   ]
  },
  {
   "cell_type": "code",
   "execution_count": 37,
   "metadata": {},
   "outputs": [
    {
     "name": "stdout",
     "output_type": "stream",
     "text": [
      "Total students information:abhi\n",
      "Total students information:hari\n",
      "Total students information:srikanth\n",
      "Total students information:sunil\n",
      "Total students information:lokesh\n"
     ]
    }
   ],
   "source": [
    "# to see the behaviour of \"PASS\"\n",
    "for student in students:\n",
    "    if student in std_absent:\n",
    "        #continue # print all except sunil\n",
    "        #break # print up to sunil\n",
    "        pass  # print everything\n",
    "    print (\"Total students information:{}\".format(student))"
   ]
  },
  {
   "cell_type": "code",
   "execution_count": 38,
   "metadata": {},
   "outputs": [
    {
     "name": "stdout",
     "output_type": "stream",
     "text": [
      "Absent students information:SUNIL\n"
     ]
    }
   ],
   "source": [
    "# only absent student information \n",
    "for student in students:\n",
    "    if student not in std_absent:\n",
    "        continue # print all except sunil\n",
    "        #break # print \n",
    "        #pass  # print everything\n",
    "    print (\"Absent students information:{}\".format(student.upper()))"
   ]
  },
  {
   "cell_type": "code",
   "execution_count": 40,
   "metadata": {},
   "outputs": [
    {
     "name": "stdout",
     "output_type": "stream",
     "text": [
      "['abhi', 'hari', 'srikanth', 'sunil', 'lokesh']\n"
     ]
    }
   ],
   "source": [
    "# Modification of list elements\n",
    "students = ['abhi','hari','srikanth','sunil','lokesh']\n",
    "print (students)"
   ]
  },
  {
   "cell_type": "code",
   "execution_count": 42,
   "metadata": {},
   "outputs": [
    {
     "name": "stdout",
     "output_type": "stream",
     "text": [
      "['abhi', 'hari', 'srikanth', 'sunil raju', 'lokesh']\n",
      "['abhi', 'hari', 'srikanth', 'sunil raju', 'lokesh']\n"
     ]
    }
   ],
   "source": [
    "# students list index values\n",
    "# ['kalyan','hari','srikanth','sunil','lokesh']\n",
    "#     0       1        2         3       4\n",
    "print(students)\n",
    "students[3] = 'sunil raju'\n",
    "print (students)"
   ]
  },
  {
   "cell_type": "code",
   "execution_count": 27,
   "metadata": {},
   "outputs": [
    {
     "name": "stdout",
     "output_type": "stream",
     "text": [
      "python\n",
      "<class 'str'>\n",
      "p\n"
     ]
    }
   ],
   "source": [
    "str1='python'\n",
    "print (str1)\n",
    "print (type(str1))\n",
    "print (str1[0])"
   ]
  },
  {
   "cell_type": "code",
   "execution_count": 28,
   "metadata": {},
   "outputs": [
    {
     "name": "stdout",
     "output_type": "stream",
     "text": [
      "p\n"
     ]
    }
   ],
   "source": [
    "#modifying string character\n",
    "print(str1[0])"
   ]
  },
  {
   "cell_type": "code",
   "execution_count": 29,
   "metadata": {},
   "outputs": [
    {
     "ename": "TypeError",
     "evalue": "'str' object does not support item assignment",
     "output_type": "error",
     "traceback": [
      "\u001b[1;31m---------------------------------------------------------------------------\u001b[0m",
      "\u001b[1;31mTypeError\u001b[0m                                 Traceback (most recent call last)",
      "\u001b[1;32m<ipython-input-29-293bddfac8c0>\u001b[0m in \u001b[0;36m<module>\u001b[1;34m()\u001b[0m\n\u001b[1;32m----> 1\u001b[1;33m \u001b[0mstr1\u001b[0m\u001b[1;33m[\u001b[0m\u001b[1;36m0\u001b[0m\u001b[1;33m]\u001b[0m\u001b[1;33m=\u001b[0m\u001b[1;34m'J'\u001b[0m\u001b[1;33m\u001b[0m\u001b[0m\n\u001b[0m",
      "\u001b[1;31mTypeError\u001b[0m: 'str' object does not support item assignment"
     ]
    }
   ],
   "source": [
    "str1[0]='J'"
   ]
  },
  {
   "cell_type": "code",
   "execution_count": 1,
   "metadata": {},
   "outputs": [
    {
     "name": "stdout",
     "output_type": "stream",
     "text": [
      "python\n",
      "<class 'str'>\n"
     ]
    }
   ],
   "source": [
    "# converting string to a list and vice-versa\n",
    "str1='python'\n",
    "print (str1)\n",
    "print (type(str1))"
   ]
  },
  {
   "cell_type": "code",
   "execution_count": 58,
   "metadata": {},
   "outputs": [
    {
     "name": "stdout",
     "output_type": "stream",
     "text": [
      "python\n"
     ]
    }
   ],
   "source": [
    "print (str1)"
   ]
  },
  {
   "cell_type": "code",
   "execution_count": 59,
   "metadata": {},
   "outputs": [
    {
     "name": "stdout",
     "output_type": "stream",
     "text": [
      "['p', 'y', 't', 'h', 'o', 'n']\n",
      "<class 'list'>\n"
     ]
    }
   ],
   "source": [
    "# convert string to list\n",
    "L1 = list(str1)\n",
    "print (L1)\n",
    "print (type(L1))"
   ]
  },
  {
   "cell_type": "code",
   "execution_count": 60,
   "metadata": {},
   "outputs": [
    {
     "name": "stdout",
     "output_type": "stream",
     "text": [
      "python\n",
      "['p', 'y', 't', 'h', 'o', 'n']\n"
     ]
    }
   ],
   "source": [
    "print (str1)\n",
    "print (L1)"
   ]
  },
  {
   "cell_type": "code",
   "execution_count": 61,
   "metadata": {},
   "outputs": [
    {
     "name": "stdout",
     "output_type": "stream",
     "text": [
      "['J', 'y', 't', 'h', 'o', 'n']\n"
     ]
    }
   ],
   "source": [
    "L1[0]='J'\n",
    "print(L1)"
   ]
  },
  {
   "cell_type": "code",
   "execution_count": 62,
   "metadata": {},
   "outputs": [
    {
     "name": "stdout",
     "output_type": "stream",
     "text": [
      "python\n"
     ]
    }
   ],
   "source": [
    "print(str1)"
   ]
  },
  {
   "cell_type": "code",
   "execution_count": 68,
   "metadata": {},
   "outputs": [
    {
     "name": "stdout",
     "output_type": "stream",
     "text": [
      "Jython\n"
     ]
    }
   ],
   "source": [
    "print(\"\".join(L1))"
   ]
  },
  {
   "cell_type": "code",
   "execution_count": null,
   "metadata": {},
   "outputs": [],
   "source": []
  },
  {
   "cell_type": "code",
   "execution_count": 69,
   "metadata": {},
   "outputs": [
    {
     "name": "stdout",
     "output_type": "stream",
     "text": [
      "Python\n",
      "Jython\n"
     ]
    }
   ],
   "source": [
    "str1=\"Python\"\n",
    "print(str1)\n",
    "L1=list(str1)\n",
    "L1[0]=\"J\"\n",
    "str1=\"\".join(L1)\n",
    "print(str1)"
   ]
  },
  {
   "cell_type": "code",
   "execution_count": 43,
   "metadata": {},
   "outputs": [
    {
     "name": "stdout",
     "output_type": "stream",
     "text": [
      "['sun', 'mon', 'tue', 'wed', 'thu', 'fri']\n"
     ]
    }
   ],
   "source": [
    "#methods on list\n",
    "print (days)"
   ]
  },
  {
   "cell_type": "code",
   "execution_count": 44,
   "metadata": {},
   "outputs": [],
   "source": [
    "students = ['ramu','sunil','srikanth','sridhar','sunil','ravi']"
   ]
  },
  {
   "cell_type": "code",
   "execution_count": 45,
   "metadata": {},
   "outputs": [
    {
     "name": "stdout",
     "output_type": "stream",
     "text": [
      "Help on built-in function append:\n",
      "\n",
      "append(...) method of builtins.list instance\n",
      "    L.append(object) -> None -- append object to end\n",
      "\n",
      "None\n"
     ]
    }
   ],
   "source": [
    "print(help(students.append))"
   ]
  },
  {
   "cell_type": "code",
   "execution_count": 46,
   "metadata": {},
   "outputs": [
    {
     "name": "stdout",
     "output_type": "stream",
     "text": [
      "['ramu', 'sunil', 'srikanth', 'sridhar', 'sunil', 'ravi']\n",
      "['ramu', 'sunil', 'srikanth', 'sridhar', 'sunil', 'ravi', 'ramesh']\n"
     ]
    }
   ],
   "source": [
    "# method1: append : to add new element at last\n",
    "print (students)\n",
    "students.append('ramesh')\n",
    "print (students)"
   ]
  },
  {
   "cell_type": "code",
   "execution_count": null,
   "metadata": {},
   "outputs": [],
   "source": []
  },
  {
   "cell_type": "code",
   "execution_count": 47,
   "metadata": {},
   "outputs": [
    {
     "name": "stdout",
     "output_type": "stream",
     "text": [
      "[1, 2, 3, 4, 5]\n",
      "None\n",
      "[]\n"
     ]
    }
   ],
   "source": [
    "#method2: clear : it removes all elements from list\n",
    "L1=[1,2,3,4,5]\n",
    "print(L1)\n",
    "print(L1.clear())\n",
    "print(L1)"
   ]
  },
  {
   "cell_type": "code",
   "execution_count": 49,
   "metadata": {},
   "outputs": [
    {
     "name": "stdout",
     "output_type": "stream",
     "text": [
      "Help on method_descriptor:\n",
      "\n",
      "copy(...)\n",
      "    L.copy() -> list -- a shallow copy of L\n",
      "\n",
      "None\n"
     ]
    }
   ],
   "source": [
    "print(help(list.copy))"
   ]
  },
  {
   "cell_type": "code",
   "execution_count": 48,
   "metadata": {},
   "outputs": [
    {
     "name": "stdout",
     "output_type": "stream",
     "text": [
      "[1, 2, 3, 4, 5]\n",
      "[1, 2, 3, 4, 5]\n",
      "[1, 2, 3, 4, 5]\n",
      "[1, 2, 3, 4, 5]\n"
     ]
    }
   ],
   "source": [
    "#method3: copy : it copy all elements from existing list\n",
    "L1=[1,2,3,4,5]\n",
    "print(L1)\n",
    "L2=L1.copy()\n",
    "L33=list.copy(L1)\n",
    "print(L1)\n",
    "print(L2)\n",
    "print(L33)"
   ]
  },
  {
   "cell_type": "code",
   "execution_count": 50,
   "metadata": {},
   "outputs": [
    {
     "name": "stdout",
     "output_type": "stream",
     "text": [
      "[1, 2, 3, 4, 5]\n",
      "[1, 2, 3, 4, 5]\n"
     ]
    }
   ],
   "source": [
    "print(L1)\n",
    "L3=L1\n",
    "print(L3)"
   ]
  },
  {
   "cell_type": "code",
   "execution_count": 51,
   "metadata": {},
   "outputs": [
    {
     "name": "stdout",
     "output_type": "stream",
     "text": [
      "[1, 2, 1, 3, 4, 5, 1, 2, 4, 1, 6, 7, 8]\n",
      "4\n",
      "2\n",
      "0\n"
     ]
    }
   ],
   "source": [
    "#method4:count:it will count how many time given element is existed\n",
    "L1=[1,2,1,3,4,5,1,2,4,1,6,7,8]\n",
    "print(L1)\n",
    "print(L1.count(1))\n",
    "print(L1.count(2))\n",
    "print(L1.count(9))"
   ]
  },
  {
   "cell_type": "code",
   "execution_count": 43,
   "metadata": {},
   "outputs": [
    {
     "name": "stdout",
     "output_type": "stream",
     "text": [
      "Help on method_descriptor:\n",
      "\n",
      "extend(...)\n",
      "    L.extend(iterable) -> None -- extend list by appending elements from the iterable\n",
      "\n",
      "None\n"
     ]
    }
   ],
   "source": [
    "print(help(list.extend))"
   ]
  },
  {
   "cell_type": "code",
   "execution_count": 52,
   "metadata": {},
   "outputs": [
    {
     "name": "stdout",
     "output_type": "stream",
     "text": [
      "[1, 2, 3, 4, 5]\n",
      "[6, 7, 8, 9, 10]\n",
      "[1, 2, 3, 4, 5, 6, 7, 8, 9, 10]\n"
     ]
    }
   ],
   "source": [
    "#method5: extend: it will extend a list by adding another list\n",
    "#                 list elements\n",
    "L1=[1,2,3,4,5]\n",
    "L2=[6,7,8,9,10]\n",
    "print(L1)\n",
    "print(L2)\n",
    "L1.extend(L2)\n",
    "print(L1)"
   ]
  },
  {
   "cell_type": "code",
   "execution_count": 53,
   "metadata": {},
   "outputs": [
    {
     "name": "stdout",
     "output_type": "stream",
     "text": [
      "[1, 2, 3, 4, 5]\n",
      "[1, 2, 3, 4, 5, 6, 7, 8, 9, 10]\n"
     ]
    }
   ],
   "source": [
    "#method5: extend\n",
    "L1=[1,2,3,4,5]\n",
    "print(L1)\n",
    "L1.extend([6,7,8,9,10])\n",
    "print(L1)"
   ]
  },
  {
   "cell_type": "code",
   "execution_count": null,
   "metadata": {},
   "outputs": [],
   "source": []
  },
  {
   "cell_type": "code",
   "execution_count": 54,
   "metadata": {},
   "outputs": [
    {
     "name": "stdout",
     "output_type": "stream",
     "text": [
      "6\n"
     ]
    }
   ],
   "source": [
    "#method6: index: it will find the index position for given char\n",
    "mailid=\"abcded@gmail.com\"\n",
    "print(mailid.index('@'))"
   ]
  },
  {
   "cell_type": "code",
   "execution_count": 56,
   "metadata": {},
   "outputs": [
    {
     "name": "stdout",
     "output_type": "stream",
     "text": [
      "12\n"
     ]
    }
   ],
   "source": [
    "mailid=\"abcded@gmail@com\"\n",
    "print(mailid.index('@',7))"
   ]
  },
  {
   "cell_type": "code",
   "execution_count": 57,
   "metadata": {},
   "outputs": [
    {
     "name": "stdout",
     "output_type": "stream",
     "text": [
      "13\n"
     ]
    }
   ],
   "source": [
    "mailid=\"abdsfgsdfgded@gmail@com\"\n",
    "print(mailid.index('@',7))"
   ]
  },
  {
   "cell_type": "code",
   "execution_count": 60,
   "metadata": {},
   "outputs": [
    {
     "name": "stdout",
     "output_type": "stream",
     "text": [
      "16\n"
     ]
    }
   ],
   "source": [
    "# to find the second @ character in email address\n",
    "mailid=\"abdsdfgded@gmail@com\"\n",
    "print (mailid.index('@',(mailid.index('@'))+1))"
   ]
  },
  {
   "cell_type": "code",
   "execution_count": 65,
   "metadata": {},
   "outputs": [
    {
     "name": "stdout",
     "output_type": "stream",
     "text": [
      "[4, 2, 3, 1, 4, 5, 4, 7, 1]\n"
     ]
    },
    {
     "ename": "ValueError",
     "evalue": "1 is not in list",
     "output_type": "error",
     "traceback": [
      "\u001b[1;31m---------------------------------------------------------------------------\u001b[0m",
      "\u001b[1;31mValueError\u001b[0m                                Traceback (most recent call last)",
      "\u001b[1;32m<ipython-input-65-383324ced5d7>\u001b[0m in \u001b[0;36m<module>\u001b[1;34m()\u001b[0m\n\u001b[0;32m      1\u001b[0m \u001b[0mL1\u001b[0m\u001b[1;33m=\u001b[0m\u001b[1;33m[\u001b[0m\u001b[1;36m4\u001b[0m\u001b[1;33m,\u001b[0m\u001b[1;36m2\u001b[0m\u001b[1;33m,\u001b[0m\u001b[1;36m3\u001b[0m\u001b[1;33m,\u001b[0m\u001b[1;36m1\u001b[0m\u001b[1;33m,\u001b[0m\u001b[1;36m4\u001b[0m\u001b[1;33m,\u001b[0m\u001b[1;36m5\u001b[0m\u001b[1;33m,\u001b[0m\u001b[1;36m4\u001b[0m\u001b[1;33m,\u001b[0m\u001b[1;36m7\u001b[0m\u001b[1;33m,\u001b[0m\u001b[1;36m1\u001b[0m\u001b[1;33m]\u001b[0m\u001b[1;33m\u001b[0m\u001b[0m\n\u001b[0;32m      2\u001b[0m \u001b[0mprint\u001b[0m\u001b[1;33m(\u001b[0m\u001b[0mL1\u001b[0m\u001b[1;33m)\u001b[0m\u001b[1;33m\u001b[0m\u001b[0m\n\u001b[1;32m----> 3\u001b[1;33m \u001b[0mprint\u001b[0m\u001b[1;33m(\u001b[0m\u001b[0mL1\u001b[0m\u001b[1;33m.\u001b[0m\u001b[0mindex\u001b[0m\u001b[1;33m(\u001b[0m\u001b[1;36m1\u001b[0m\u001b[1;33m,\u001b[0m\u001b[1;36m4\u001b[0m\u001b[1;33m,\u001b[0m\u001b[1;36m7\u001b[0m\u001b[1;33m)\u001b[0m\u001b[1;33m)\u001b[0m\u001b[1;33m\u001b[0m\u001b[0m\n\u001b[0m",
      "\u001b[1;31mValueError\u001b[0m: 1 is not in list"
     ]
    }
   ],
   "source": [
    "L1=[4,2,3,1,4,5,4,7,1]\n",
    "print(L1)\n",
    "print(L1.index(1,4,7))"
   ]
  },
  {
   "cell_type": "code",
   "execution_count": 66,
   "metadata": {},
   "outputs": [
    {
     "name": "stdout",
     "output_type": "stream",
     "text": [
      "valid Email ID\n"
     ]
    }
   ],
   "source": [
    "mailid=\"abcded@gmail.com\"\n",
    "if mailid.count('@') == 1:\n",
    "    print (\"valid Email ID\")\n",
    "else:\n",
    "    print (\"InValid Email id\")"
   ]
  },
  {
   "cell_type": "code",
   "execution_count": null,
   "metadata": {},
   "outputs": [],
   "source": []
  },
  {
   "cell_type": "code",
   "execution_count": 67,
   "metadata": {},
   "outputs": [
    {
     "name": "stdout",
     "output_type": "stream",
     "text": [
      "[1, 3, 4, 5]\n",
      "[1, 3, 4, 700, 5]\n"
     ]
    }
   ],
   "source": [
    "#method7: insert: it will insert new element at given index \n",
    "        #  position\n",
    "L1=[1,3,4,5]\n",
    "print(L1)\n",
    "L1.insert(3,700)\n",
    "print(L1)"
   ]
  },
  {
   "cell_type": "code",
   "execution_count": 77,
   "metadata": {},
   "outputs": [
    {
     "name": "stdout",
     "output_type": "stream",
     "text": [
      "['Python', 'java', 'c', 'c++', 'javascript', 'c#', 'php']\n"
     ]
    }
   ],
   "source": [
    "#method8:pop : it will remove last element from list\n",
    "L1=[\"Python\",\"java\",\"c\",\"c++\",\"javascript\",\"c#\",\"php\"]\n",
    "print(L1)\n"
   ]
  },
  {
   "cell_type": "code",
   "execution_count": 84,
   "metadata": {},
   "outputs": [
    {
     "name": "stdout",
     "output_type": "stream",
     "text": [
      "['Python', 'java', 'c++', 'javascript']\n"
     ]
    }
   ],
   "source": [
    "print(L1)"
   ]
  },
  {
   "cell_type": "code",
   "execution_count": 83,
   "metadata": {},
   "outputs": [
    {
     "data": {
      "text/plain": [
       "'c'"
      ]
     },
     "execution_count": 83,
     "metadata": {},
     "output_type": "execute_result"
    }
   ],
   "source": [
    "L1.pop(2)"
   ]
  },
  {
   "cell_type": "code",
   "execution_count": 5,
   "metadata": {},
   "outputs": [
    {
     "name": "stdout",
     "output_type": "stream",
     "text": [
      "[1, 2, 3, 4, 5, 6, 7, 8, 9, 10, 11]\n",
      "[1, 2, 3, 5, 6, 7, 8, 9, 10, 11]\n"
     ]
    }
   ],
   "source": [
    "#pop can remove element from list based on index position\n",
    "print(L1)\n",
    "L1.pop(3)\n",
    "print(L1)"
   ]
  },
  {
   "cell_type": "code",
   "execution_count": 88,
   "metadata": {},
   "outputs": [
    {
     "name": "stdout",
     "output_type": "stream",
     "text": [
      "[1, 2, 3, 4, 5, 'A', 6, 7, 7, 6, 5, 7, 8, 9]\n"
     ]
    }
   ],
   "source": [
    "#method9: remove: it removes given element\n",
    "L1=[1,2,3,4,5,\"A\",6,7,7,6,5,7,8,9]\n",
    "\n"
   ]
  },
  {
   "cell_type": "code",
   "execution_count": 94,
   "metadata": {},
   "outputs": [
    {
     "name": "stdout",
     "output_type": "stream",
     "text": [
      "[1, 2, 3, 4, 6, 7, 7, 6, 7, 8, 9]\n"
     ]
    }
   ],
   "source": [
    "print(L1)"
   ]
  },
  {
   "cell_type": "code",
   "execution_count": 93,
   "metadata": {},
   "outputs": [],
   "source": [
    "L1.remove(5) "
   ]
  },
  {
   "cell_type": "code",
   "execution_count": 98,
   "metadata": {},
   "outputs": [
    {
     "name": "stdout",
     "output_type": "stream",
     "text": [
      "[2, 3, 'x', 10.45, 6, 6, 7, 7, 6, 'raju', 8, 9, 1]\n",
      "[1, 9, 8, 'raju', 6, 7, 7, 6, 6, 10.45, 'x', 3, 2]\n"
     ]
    }
   ],
   "source": [
    "#method10:reverse:it arrange reverse order of element\n",
    "L1=[2,3,\"x\",10.45,6,6,7,7,6,'raju',8,9,1]\n",
    "print(L1)\n",
    "L1.reverse()\n",
    "print(L1)"
   ]
  },
  {
   "cell_type": "code",
   "execution_count": 99,
   "metadata": {},
   "outputs": [
    {
     "name": "stdout",
     "output_type": "stream",
     "text": [
      "[3, 2, 1, 8, 4, 6, 5]\n",
      "[1, 2, 3, 4, 5, 6, 8]\n",
      "[8, 6, 5, 4, 3, 2, 1]\n"
     ]
    }
   ],
   "source": [
    "#method11: sort: ascending or descending\n",
    "L1=[3,2,1,8,4,6,5]\n",
    "print(L1)\n",
    "L1.sort() # ascending \n",
    "print(L1)\n",
    "L1.sort(reverse=True) # descending\n",
    "print(L1)"
   ]
  },
  {
   "cell_type": "code",
   "execution_count": 101,
   "metadata": {},
   "outputs": [
    {
     "name": "stdout",
     "output_type": "stream",
     "text": [
      "['a', 'A', 'b', 'f', 'd']\n",
      "['A', 'a', 'b', 'd', 'f']\n",
      "['f', 'd', 'b', 'a', 'A']\n"
     ]
    }
   ],
   "source": [
    "L1=['a','A','b','f','d']\n",
    "print(L1)\n",
    "L1.sort()\n",
    "print(L1)\n",
    "L1.sort(reverse=True)\n",
    "print(L1)"
   ]
  },
  {
   "cell_type": "code",
   "execution_count": 102,
   "metadata": {},
   "outputs": [
    {
     "name": "stdout",
     "output_type": "stream",
     "text": [
      "['z', 'db', 'da']\n",
      "['da', 'db', 'z']\n"
     ]
    }
   ],
   "source": [
    "L1=['z','db','da']\n",
    "print(L1)\n",
    "L1.sort()\n",
    "print(L1)"
   ]
  },
  {
   "cell_type": "code",
   "execution_count": 103,
   "metadata": {},
   "outputs": [
    {
     "name": "stdout",
     "output_type": "stream",
     "text": [
      "[1, 2, 3, 4, 5]\n"
     ]
    }
   ],
   "source": [
    "#examples\n",
    "L1=[1,2,3,4,5]\n",
    "print(L1)"
   ]
  },
  {
   "cell_type": "code",
   "execution_count": 104,
   "metadata": {},
   "outputs": [
    {
     "name": "stdout",
     "output_type": "stream",
     "text": [
      "12345"
     ]
    }
   ],
   "source": [
    "for i in L1:\n",
    "    print(i,end='')"
   ]
  },
  {
   "cell_type": "code",
   "execution_count": 105,
   "metadata": {},
   "outputs": [
    {
     "data": {
      "text/plain": [
       "6"
      ]
     },
     "execution_count": 105,
     "metadata": {},
     "output_type": "execute_result"
    }
   ],
   "source": [
    "# to find no of elements in a list\n",
    "L1=[1,2,3,'a',5,5]\n",
    "len(L1)"
   ]
  },
  {
   "cell_type": "code",
   "execution_count": null,
   "metadata": {},
   "outputs": [],
   "source": [
    "# assignments"
   ]
  },
  {
   "cell_type": "code",
   "execution_count": 108,
   "metadata": {},
   "outputs": [],
   "source": [
    "L1=[1,2,3,4,5]"
   ]
  },
  {
   "cell_type": "code",
   "execution_count": 109,
   "metadata": {},
   "outputs": [
    {
     "name": "stdout",
     "output_type": "stream",
     "text": [
      "15\n"
     ]
    }
   ],
   "source": [
    "# sum of all elements in a list, multiply , large value ,\n",
    "s=sum(L1)\n",
    "print(s)"
   ]
  },
  {
   "cell_type": "code",
   "execution_count": 112,
   "metadata": {},
   "outputs": [
    {
     "name": "stdout",
     "output_type": "stream",
     "text": [
      "15\n"
     ]
    }
   ],
   "source": [
    "lsum=0\n",
    "L1=[1,2,3,4,5]\n",
    "for i in L1:\n",
    "    lsum = lsum + i\n",
    "print(lsum)"
   ]
  },
  {
   "cell_type": "code",
   "execution_count": 113,
   "metadata": {},
   "outputs": [
    {
     "name": "stdout",
     "output_type": "stream",
     "text": [
      "120\n"
     ]
    }
   ],
   "source": [
    "lsum=1\n",
    "L1=[1,2,3,4,5]\n",
    "for i in L1:\n",
    "    lsum = lsum * i\n",
    "print(lsum)"
   ]
  },
  {
   "cell_type": "code",
   "execution_count": null,
   "metadata": {},
   "outputs": [],
   "source": [
    "# large number form list and min number"
   ]
  },
  {
   "cell_type": "markdown",
   "metadata": {},
   "source": [
    "#validation of email \n",
    "1. before @ 6 characters\n",
    "2. only one @\n",
    "3. only one . after @\n",
    "4. after . only accept [com,net,in,co,org]\n",
    "5. between @ and . at least 3 character\n",
    "1. remove all emails who are not satisfied as per above rules from existing\n",
    "   list\n",
    "2. accept input as email validate as per above rules and add in existing\n",
    "   list"
   ]
  },
  {
   "cell_type": "code",
   "execution_count": null,
   "metadata": {},
   "outputs": [],
   "source": [
    "# remove duplicates from list"
   ]
  },
  {
   "cell_type": "code",
   "execution_count": null,
   "metadata": {},
   "outputs": [],
   "source": [
    "# seaparate elements from list according to their datatypes and add in\n",
    "corresponding lists"
   ]
  },
  {
   "cell_type": "code",
   "execution_count": null,
   "metadata": {},
   "outputs": [],
   "source": []
  }
 ],
 "metadata": {
  "kernelspec": {
   "display_name": "Python 3",
   "language": "python",
   "name": "python3"
  },
  "language_info": {
   "codemirror_mode": {
    "name": "ipython",
    "version": 3
   },
   "file_extension": ".py",
   "mimetype": "text/x-python",
   "name": "python",
   "nbconvert_exporter": "python",
   "pygments_lexer": "ipython3",
   "version": "3.6.5"
  }
 },
 "nbformat": 4,
 "nbformat_minor": 1
}
