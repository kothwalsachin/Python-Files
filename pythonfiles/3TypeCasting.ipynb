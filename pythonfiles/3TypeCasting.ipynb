{
 "cells": [
  {
   "cell_type": "code",
   "execution_count": 1,
   "metadata": {},
   "outputs": [],
   "source": [
    "# Type Casting"
   ]
  },
  {
   "cell_type": "code",
   "execution_count": 1,
   "metadata": {},
   "outputs": [],
   "source": [
    "my_country = 'India'\n",
    "another_country = 'China'"
   ]
  },
  {
   "cell_type": "code",
   "execution_count": 2,
   "metadata": {
    "scrolled": true
   },
   "outputs": [
    {
     "name": "stdout",
     "output_type": "stream",
     "text": [
      "India\n",
      "China\n",
      "India China\n",
      "India\n",
      "China\n"
     ]
    }
   ],
   "source": [
    "print (my_country)\n",
    "print (another_country)\n",
    "print (my_country, another_country)\n",
    "print( my_country); print (another_country)"
   ]
  },
  {
   "cell_type": "code",
   "execution_count": 3,
   "metadata": {},
   "outputs": [
    {
     "name": "stdout",
     "output_type": "stream",
     "text": [
      "My Country Name is  India\n"
     ]
    }
   ],
   "source": [
    "print (\"My Country Name is \", my_country)"
   ]
  },
  {
   "cell_type": "code",
   "execution_count": 4,
   "metadata": {},
   "outputs": [
    {
     "name": "stdout",
     "output_type": "stream",
     "text": [
      "My Country Name is  India \n",
      "There is another country which adjacent to us China\n"
     ]
    }
   ],
   "source": [
    "print (\"My Country Name is \", my_country , \"\\nThere is another country which \\\n",
    "adjacent to us\", another_country)"
   ]
  },
  {
   "cell_type": "code",
   "execution_count": null,
   "metadata": {
    "collapsed": true
   },
   "outputs": [],
   "source": [
    "# Type casting\n",
    "# %s => sting  , %d => integer  %r  => raw  %f  => float"
   ]
  },
  {
   "cell_type": "code",
   "execution_count": 6,
   "metadata": {},
   "outputs": [],
   "source": [
    "my_country = \"India\"\n",
    "another_country = 'China'\n",
    "x=100"
   ]
  },
  {
   "cell_type": "code",
   "execution_count": 10,
   "metadata": {},
   "outputs": [
    {
     "name": "stdout",
     "output_type": "stream",
     "text": [
      "My Coutry Name is India and another country name is China. \n"
     ]
    }
   ],
   "source": [
    "print (\"My Coutry Name is %s and another country name is %s. \" %(my_country,another_country))"
   ]
  },
  {
   "cell_type": "code",
   "execution_count": 11,
   "metadata": {},
   "outputs": [
    {
     "name": "stdout",
     "output_type": "stream",
     "text": [
      "My Country Name is , India. , \n",
      "There is another country It's Name is China. which is adjacent to us\n"
     ]
    }
   ],
   "source": [
    "print (\"My Country Name is , %s. , \\nThere is another country \\\n",
    "It's Name is %s. which is adjacent to us\" %(my_country,another_country))"
   ]
  },
  {
   "cell_type": "code",
   "execution_count": 12,
   "metadata": {},
   "outputs": [
    {
     "name": "stdout",
     "output_type": "stream",
     "text": [
      "my country name is India and i love India and India is very great\n"
     ]
    }
   ],
   "source": [
    "print (\"my country name is %s and i love %s and %s is very great\" %(my_country,my_country,my_country))"
   ]
  },
  {
   "cell_type": "code",
   "execution_count": 13,
   "metadata": {},
   "outputs": [
    {
     "name": "stdout",
     "output_type": "stream",
     "text": [
      "my country name is India and i love India and India is very great\n"
     ]
    }
   ],
   "source": [
    "print (\"my country name is {} and i love {} and {} is very great\".format(my_country,my_country,my_country))"
   ]
  },
  {
   "cell_type": "code",
   "execution_count": 16,
   "metadata": {},
   "outputs": [
    {
     "name": "stdout",
     "output_type": "stream",
     "text": [
      "my country name is India and i love India and India is very great\n"
     ]
    }
   ],
   "source": [
    "print (\"my country name is {0} and i love {0} and {0} is very great\".format(my_country,x))"
   ]
  },
  {
   "cell_type": "code",
   "execution_count": 12,
   "metadata": {},
   "outputs": [],
   "source": [
    "name = \"Raju\"\n",
    "exp = 10\n",
    "c1 = \"Oracle\"\n",
    "c2 = \"Python\"\n",
    "c3 = \"Java\"\n",
    "cname=\"Gyanvriksh\"\n",
    "per=85.45"
   ]
  },
  {
   "cell_type": "code",
   "execution_count": 13,
   "metadata": {},
   "outputs": [
    {
     "name": "stdout",
     "output_type": "stream",
     "text": [
      "My Name is Raju. \n",
      "i have 10 years experience \n",
      "and i teach Oracle. , Python and Java and success percentage is 85.450000.\n"
     ]
    }
   ],
   "source": [
    "print (\"My Name is %s. \\ni have %d years experience \\nand i teach \\\n",
    "%s. , %s and %s and success percentage is %f.\" %(name,exp,c1,c2,c3,per))"
   ]
  },
  {
   "cell_type": "code",
   "execution_count": 14,
   "metadata": {},
   "outputs": [
    {
     "name": "stdout",
     "output_type": "stream",
     "text": [
      "My Coutry Name is India and i love my India and another country is China\n"
     ]
    }
   ],
   "source": [
    "print (\"My Coutry Name is {0} and i love my {0} \\\n",
    "and another country is {1}\".format(my_country,another_country))"
   ]
  },
  {
   "cell_type": "code",
   "execution_count": 15,
   "metadata": {},
   "outputs": [
    {
     "name": "stdout",
     "output_type": "stream",
     "text": [
      "My Name is Raju and i have 10 experience ,\n",
      "I teach Oracle, Python and Java.\n",
      "my success ration is 85.45 % and working in Gyanvriksh\n"
     ]
    }
   ],
   "source": [
    "print (\"My Name is {} and i have {} experience ,\\nI teach {}, {} and {}.\\\n",
    "\\nmy success ration is {} % and working in {}\".format(name,exp,c1,c2,c3,per,cname))"
   ]
  },
  {
   "cell_type": "code",
   "execution_count": null,
   "metadata": {
    "collapsed": true
   },
   "outputs": [],
   "source": []
  }
 ],
 "metadata": {
  "kernelspec": {
   "display_name": "Python 3",
   "language": "python",
   "name": "python3"
  },
  "language_info": {
   "codemirror_mode": {
    "name": "ipython",
    "version": 3
   },
   "file_extension": ".py",
   "mimetype": "text/x-python",
   "name": "python",
   "nbconvert_exporter": "python",
   "pygments_lexer": "ipython3",
   "version": "3.6.5"
  }
 },
 "nbformat": 4,
 "nbformat_minor": 1
}
